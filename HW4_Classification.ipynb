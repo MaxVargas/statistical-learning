{
 "cells": [
  {
   "cell_type": "markdown",
   "id": "4eeb8c94",
   "metadata": {},
   "source": [
    "# Mathematical exercises\n",
    "\n",
    "**Exercise 1** (3 points): Problem 4.10 from the PRML textbook.\n",
    "\n",
    "**Exercise 2** (3 points): Problem 4.16 from the PRML textbook.\n"
   ]
  },
  {
   "cell_type": "markdown",
   "id": "c0f2e6a7",
   "metadata": {},
   "source": [
    "# Coding exercises\n",
    "\n",
    "In the exercises below, we will practice using logistic regression for classification, starting with some low-dimensional synthetic data, then moving on to image classification with real data."
   ]
  },
  {
   "cell_type": "code",
   "execution_count": 1,
   "id": "b7de1fec",
   "metadata": {},
   "outputs": [],
   "source": [
    "import numpy as np\n",
    "import matplotlib.pyplot as plt"
   ]
  },
  {
   "cell_type": "code",
   "execution_count": 2,
   "id": "00d8270e",
   "metadata": {},
   "outputs": [
    {
     "data": {
      "text/plain": [
       "Text(0, 0.5, 'x2')"
      ]
     },
     "execution_count": 2,
     "metadata": {},
     "output_type": "execute_result"
    },
    {
     "data": {
      "image/png": "[encoded data removed]",
      "text/plain": [
       "<Figure size 288x288 with 1 Axes>"
      ]
     },
     "metadata": {
      "needs_background": "light"
     },
     "output_type": "display_data"
    }
   ],
   "source": [
    "# Make up some two-dimensional data:\n",
    "nA = 100\n",
    "muA = np.array([1., 0])\n",
    "sigA = np.array([[1,-0.8],[-0.8,1]])\n",
    "xA = np.random.multivariate_normal(muA, sigA, nA)\n",
    "nB = 100\n",
    "muB = np.array([-1., -0.5])\n",
    "sigB = np.array([[1,0.3],[0.3,1]])\n",
    "xB = np.random.multivariate_normal(muB, sigB, nB)\n",
    "\n",
    "# Reformat the data:\n",
    "X = np.vstack((xA, xB))  # X should be n_samples by n_variables, where n_samples=nA+nB\n",
    "y = np.append(np.zeros(nA), np.ones(nB))  # y should have length n_samples\n",
    "\n",
    "# Plot the data:\n",
    "plt.figure(figsize=(4,4))\n",
    "plt.plot(xA[:,0], xA[:,1], '.')\n",
    "plt.plot(xB[:,0], xB[:,1], '.')\n",
    "plt.xlabel('x1')\n",
    "plt.ylabel('x2')"
   ]
  },
  {
   "cell_type": "markdown",
   "id": "679bd9ef",
   "metadata": {},
   "source": [
    "## Logistic regression with simulated data"
   ]
  },
  {
   "cell_type": "markdown",
   "id": "4344d195",
   "metadata": {},
   "source": [
    "**Exercise 1** (5 points): Fit a logistic regression classifier to the synthetic data from above using `LogisticRegression` from the `sklearn` library. Alternatively, you can use `LogisticRegressionCV`, which includes L2 regularization of the weights, with built-in cross-validation to determine the regularization parameter. Report the classification accuracy and plot the result as in the previous exercise."
   ]
  },
  {
   "cell_type": "code",
   "execution_count": 7,
   "id": "90e108ad",
   "metadata": {},
   "outputs": [
    {
     "data": {
      "text/plain": [
       "0.91"
      ]
     },
     "execution_count": 7,
     "metadata": {},
     "output_type": "execute_result"
    }
   ],
   "source": [
    "from sklearn.linear_model import LogisticRegression\n",
    "\n",
    "## Solution ##\n",
    "clf = LogisticRegression().fit(X, y)\n",
    "\n",
    "clf.score(X,y)\n"
   ]
  },
  {
   "cell_type": "markdown",
   "id": "f0df4d1c",
   "metadata": {},
   "source": [
    "## Logistic regression on MNIST\n",
    "\n",
    "The MNIST dataset is an extremely common dataset for testing algorithms in machine learning. The dataset consists of a large number of handwritten images, where the images are represented by one-dimensional arrays, where each component of the vector represents the grayscale intensity of one image pixel. The images are 28-by-28 pixels, flattened into arrays of length $784=28^2$. The image labels are integers from 0 to 9, representing the identity of each handwritten digit. Below, we will train a classifier with logistic regression to take one of the images as input and predict the identity of the that image.\n",
    "\n",
    "Note that, because of the large dimension $M=784$ of the data, logistic regression is a better choice than the generative classification approaches implemented above (LDA and QDA). While logistic regression requires us to fit $~M$ parameters, the generative approaches would require $~M^2$ parameters."
   ]
  },
  {
   "cell_type": "code",
   "execution_count": 6,
   "id": "44b56a32",
   "metadata": {},
   "outputs": [
    {
     "name": "stdout",
     "output_type": "stream",
     "text": [
      "[5, 0, 4, 1, 9, 2, 1, 3, 1, 4, 3, 5, 3, 6, 1, 7, 2, 8, 6, 9]\n"
     ]
    }
   ],
   "source": [
    "from sklearn.datasets import fetch_openml\n",
    "\n",
    "# Import the data:\n",
    "images0, labels0 = fetch_openml(\"mnist_784\", version=1, return_X_y=True, as_frame=False)\n",
    "labels0 = [int(label) for label in labels0]  # Convert labels from strings to integers\n",
    "\n",
    "# Look at the labels:\n",
    "print(labels0[:20])"
   ]
  },
  {
   "cell_type": "code",
   "execution_count": 7,
   "id": "65fe6387",
   "metadata": {},
   "outputs": [
    {
     "name": "stdout",
     "output_type": "stream",
     "text": [
      "(70000, 784) (70000,)\n"
     ]
    },
    {
     "data": {
      "text/plain": [
       "<matplotlib.image.AxesImage at 0x12068dac0>"
      ]
     },
     "execution_count": 7,
     "metadata": {},
     "output_type": "execute_result"
    },
    {
     "data": {
      "image/png": "[encoded data removed]",
      "text/plain": [
       "<Figure size 432x288 with 1 Axes>"
      ]
     },
     "metadata": {
      "needs_background": "light"
     },
     "output_type": "display_data"
    }
   ],
   "source": [
    "# The size of the full dataset:\n",
    "print(np.shape(images0), np.shape(labels0)) \n",
    "\n",
    "# To speed things up, we'll just use a fraction of the data (feel free to use more if you like):\n",
    "n_samples = 5000  \n",
    "images = images0[:n_samples,:]\n",
    "labels = labels0[:n_samples]\n",
    "\n",
    "# Keep some separate data for testing:\n",
    "images_test = images0[n_samples:2*n_samples,:]\n",
    "labels_test = labels0[n_samples:2*n_samples]\n",
    "\n",
    "# To show an example image, reshape the length 784 vector of pixel intensities into a 28x28 matrix:\n",
    "plt.imshow(np.reshape(images[0,:], (28,28)))"
   ]
  },
  {
   "cell_type": "markdown",
   "id": "43100093",
   "metadata": {},
   "source": [
    "In class, we discussed logistic regression with $K\\geq 2$ classes. The probability that an input $\\vec{x}$ belongs to class $C_k$ is given by the softmax function:\n",
    "$$\n",
    "p(C_k | \\vec{x}) = y_k \n",
    "= \\frac{\\exp(\\vec{w}_k \\cdot \\vec{\\phi}(\\vec{x}))}{\\sum_j \\exp(\\vec{w}_j \\cdot \\vec{\\phi}(\\vec{x}))},\n",
    "$$\n",
    "and the target label $\\vec{t}_n$ for input $\\vec{x}_n$ is given by a one-hot vector, i.e. a vector with 1 in the $k$th entry (if the image belongs to class $C_k$) and zeros elsewhere. We showed that the \"cross-entropy\" error to be minimized is given by\n",
    "$$\n",
    "E(\\vec{w}_1, \\ldots, \\vec{w}_K) = -\\sum_{n=1}^N \\sum_{k=1}^K t_{nk} \\ln y_k(\\vec{x}_n).\n",
    "$$\n",
    "Taking the derivative of this error with respect to $\\vec{w}_i$ gave\n",
    "$$\n",
    "\\frac{\\partial E}{\\partial \\vec{w}_i} = \n",
    "-\\sum_n \\sum_k t_{nk} [\\delta_{ki} - y_i(\\vec{x}_n)] \\vec{\\phi}(\\vec{x}_n).\n",
    "$$"
   ]
  },
  {
   "cell_type": "markdown",
   "id": "3afa8d6a",
   "metadata": {},
   "source": [
    "**Exercise 2** (5 points): In this exercise we will use the above expressions to implement logistic regression from scratch using only basic Numpy functions. In this exercise, no built-in functions performing logistic regression may be used. First, create one-hot target vectors from the image labels. Next, initialize the weights $\\vec{w}_k$ randomly and use the above expressions to update the weights with gradient descent (or, if you prefer, stochastic gradient descent). You will have to use trial and error to choose a learning rate that is small enough to avoid diverging $\\vec{w}_k$ but large enough to successfully train in a reasonable number of steps. At each iteration of gradient descent, record the error, then make a plot that shows the error decreasing during training. Once the error has decreased to a small value, freeze the weights, then compute and report the percentage of correct classifications for the images in the testing set. You should be able to obtain testing accuracy of around 70-90%.\n",
    "\n",
    "Note (Optional): If you're feeling fancy, feel free to try implementing the iterative reweighted least squares algorithm described in Section 4.3.3 of PRML. This algorithm uses second-derivative information in addition to the first derivative shown above. This means that the algorithm should converge in a smaller number of steps than gradient descent, though each step will be more expensive to compute. Another (also optional) thing to try if you're feeling fancy: Include an L2 regularization term for the weights in the error defined above, and see whether this leads to improved performance compared with the model without regularization."
   ]
  },
  {
   "cell_type": "code",
   "execution_count": 2,
   "id": "04ef8fa9",
   "metadata": {},
   "outputs": [],
   "source": [
    "## Solution ##\n",
    "\n"
   ]
  },
  {
   "cell_type": "markdown",
   "id": "cdbc201c",
   "metadata": {},
   "source": [
    "**Exercise 3** (3 points): Repeat the exercise above, now doing things the easy way. Use `LogisticRegression` from the `sklearn` library to perform logistic regression on the MNIST data, then report the percentage of correct classifications using the held-out testing data. If you're feeling fancy (optional) try using L1 and/or L2 regularization or any other tricks you can think of to try to boost the final testing performance."
   ]
  },
  {
   "cell_type": "code",
   "execution_count": 3,
   "id": "801d0eae",
   "metadata": {
    "scrolled": true
   },
   "outputs": [],
   "source": [
    "from sklearn.linear_model import LogisticRegression\n",
    "\n",
    "## Solution ##\n",
    "\n"
   ]
  },
  {
   "cell_type": "code",
   "execution_count": null,
   "id": "229e8b39",
   "metadata": {},
   "outputs": [],
   "source": []
  }
 ],
 "metadata": {
  "kernelspec": {
   "display_name": "Python 3 (ipykernel)",
   "language": "python",
   "name": "python3"
  },
  "language_info": {
   "codemirror_mode": {
    "name": "ipython",
    "version": 3
   },
   "file_extension": ".py",
   "mimetype": "text/x-python",
   "name": "python",
   "nbconvert_exporter": "python",
   "pygments_lexer": "ipython3",
   "version": "3.10.2"
  }
 },
 "nbformat": 4,
 "nbformat_minor": 5
}
