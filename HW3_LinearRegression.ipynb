{
 "cells": [
  {
   "cell_type": "markdown",
   "metadata": {},
   "source": [
    "# Mathematical exercises\n",
    "\n",
    "Solutions to the following exercises may be either typed into the submitted Jupyter notebook, or handwritten solutions may be scanned and submitted as a separate PDF file.\n"
   ]
  },
  {
   "cell_type": "markdown",
   "metadata": {},
   "source": [
    "**Exercise 1** (3 points): Problem 3.11 from the PRML textbook: Make use of the matrix identity of the next problem to show that the uncertainty $\\sigma_N^2(x)$ associated with the linear regression function satisfies $$\\sigma_{N+1}^2(x) \\le \\sigma_N^2(x).$$\n",
    "\n",
    "---\n",
    "Recalling the formula given by $$\\sigma^2_N(x) = \\frac{1}{\\beta} + \\phi_N(x)^T S_N \\phi_N(x),$$ it is enough to show that $\\phi_{N+1}(x)^T S_{N+1}\\phi_{N+1}(x) \\le \\phi_N(x)^T S_{N}\\phi_N(x)$. Recalling the formula that $S_N(x)^{-1} = S_0^{-1} + \\beta\\phi(x)^T \\phi(x)$, it follows that\n",
    "$$S_N = S_0 - \\frac{S_0 \\phi_N(x)\\phi_N(x)^T S_0}{1+ \\phi_N(x)^T S_0 \\phi_N(x)}$$\n",
    "\n",
    "Since we can assume $S_0$ is symmetric, notice that when comparing $\\phi_N(x)^TS_0\\phi_N(x)$ with $\\phi_{N+1}(x)^TS_0\\phi_{N+1}(x)$, you are just adding the square-norm of one additional vector with respect to the positive-definite inner product defined by $S_0$, so it is immediate that $\\phi_N(x)^TS_0\\phi_N(x) \\le \\phi_{N+1}(x)^TS_0\\phi_{N+1}(x)$. Consequently, considering the negative sign in the above formula, the result follows."
   ]
  },
  {
   "cell_type": "markdown",
   "metadata": {},
   "source": [
    "**Exercise 2** (3 points): In class we used the following formula for matrix inversion:\n",
    "$$\n",
    "(A^{-1} + \\vec{u}\\vec{v}^\\top)^{-1} = A - \\frac{A \\vec{u} \\vec{v}^\\top A}{1 + \\vec{v}^T A \\vec{u}}\n",
    "$$\n",
    "where $A$ is an invertible matix. In addition to helping us prove our result about Bayesian regression, this formula is often useful because, although computing a matrix inverse is computationally costly in general, if we are just adding a rank-one perturbation to a matrix whose inverse we already know, inverting the new matrix is not so costly. Prove the above formula.\n",
    "\n",
    "----\n",
    "It is enough to check the following equation:\n",
    "$$(A^{-1} + \\vec{u}\\vec{v}^\\top) \\bigg(A - \\frac{A \\vec{u} \\vec{v}^\\top A}{1 + \\vec{v}^T A \\vec{u}}\\bigg) = \\mathbb{1}$$\n",
    "\n",
    "Indeed, as both matrices are linear transformations of a finite-dimensional vector space, it is enough to check the condition of being a one-sided inverse. This is done by a standard calculation:\n",
    "$$(A^{-1} + \\vec{u}\\vec{v}^\\top) \\bigg(A - \\frac{A \\vec{u} \\vec{v}^\\top A}{1 + \\vec{v}^T A \\vec{u}}\\bigg) = \\mathbb{1} + \\vec{u}\\vec{v}^T A - \\frac{\\vec{u}\\vec{v}^\\top A}{1+\\vec{v}^T A \\vec{u}} - \\frac{\\vec{u}\\vec{v}^T A\\vec{u}\\vec{v}^T A}{1+\\vec{v}^T A\\vec{u}}$$\n",
    "\n",
    "$$(A^{-1} + \\vec{u}\\vec{v}^\\top) \\bigg(A - \\frac{A \\vec{u} \\vec{v}^\\top A}{1 + \\vec{v}^T A \\vec{u}}\\bigg) = \\mathbb{1} + \\vec{u}\\vec{v}^T A - \\frac{\\vec{u}\\vec{v}^\\top A}{1+\\vec{v}^T A \\vec{u}} - \\frac{\\vec{u}(-1 + 1 + \\vec{v}^T A\\vec{u})\\vec{v}^T A}{1+\\vec{v}^T A\\vec{u}}$$\n",
    "\n",
    "From here, the left hand side easily simplifies to give the identity."
   ]
  },
  {
   "cell_type": "code",
   "execution_count": null,
   "metadata": {},
   "outputs": [],
   "source": []
  },
  {
   "cell_type": "markdown",
   "metadata": {},
   "source": [
    "# Coding exercises\n",
    "\n",
    "Reminder: Once your notebook is complete, you should restart the kernel, run all of the cells in order, and make sure that no errors occur. Notebooks that run successfully without errors will be awarded one extra credit point."
   ]
  },
  {
   "cell_type": "code",
   "execution_count": 44,
   "metadata": {},
   "outputs": [],
   "source": [
    "import numpy as np\n",
    "import matplotlib.pyplot as plt"
   ]
  },
  {
   "cell_type": "markdown",
   "metadata": {},
   "source": [
    "## Linear regression with regularization\n",
    "\n",
    "Let us return to the regression problem that we studied in the first homework assignment. In that assignment, we showed that cross-validation, i.e. splitting data into training and testing sets, can be an effective strategy to combat overfitting. In this assignment, we'll look at another strategy to combat overfitting: regularization.\n",
    "\n",
    "As before, let's make some fake data from a sine wave with added noise."
   ]
  },
  {
   "cell_type": "code",
   "execution_count": 54,
   "metadata": {},
   "outputs": [
    {
     "data": {
      "text/plain": [
       "Text(0, 0.5, 'y')"
      ]
     },
     "execution_count": 54,
     "metadata": {},
     "output_type": "execute_result"
    },
    {
     "data": {
      "image/png": "[encoded data removed]",
      "text/plain": [
       "<Figure size 432x288 with 1 Axes>"
      ]
     },
     "metadata": {
      "needs_background": "light"
     },
     "output_type": "display_data"
    }
   ],
   "source": [
    "n = 40  # number of data points\n",
    "\n",
    "# Simulated data:\n",
    "x_data = 2*np.pi*np.random.rand(n)\n",
    "noise_amp = 0.3\n",
    "noise = noise_amp*np.random.randn(n)\n",
    "y_data = np.sin(x_data) + noise\n",
    "\n",
    "plt.plot(x_data, y_data, 'o')\n",
    "plt.xlabel('x')\n",
    "plt.ylabel('y')"
   ]
  },
  {
   "cell_type": "markdown",
   "metadata": {},
   "source": [
    "Next, as in our class demo, let's create polynomial feature vectors from the data and plot the prediction curve:"
   ]
  },
  {
   "cell_type": "code",
   "execution_count": 55,
   "metadata": {},
   "outputs": [
    {
     "data": {
      "text/plain": [
       "Text(0, 0.5, 'y')"
      ]
     },
     "execution_count": 55,
     "metadata": {},
     "output_type": "execute_result"
    },
    {
     "data": {
      "image/png": "[encoded data removed]",
      "text/plain": [
       "<Figure size 432x288 with 1 Axes>"
      ]
     },
     "metadata": {
      "needs_background": "light"
     },
     "output_type": "display_data"
    }
   ],
   "source": [
    "m = 10  # number of feature vectors (i.e. m-1 is the order of the polynomial)\n",
    "alpha = 0.0  # regularization parameter\n",
    "\n",
    "# Create the design matrix:\n",
    "phi = np.zeros((n, m))\n",
    "for j in range(m):\n",
    "    phi[:,j] = x_data**j\n",
    "\n",
    "# The weight vector minimizing the mean squared error:\n",
    "w = np.linalg.inv(alpha*np.eye(m) + phi.T @ phi) @ phi.T @ y_data\n",
    "\n",
    "# To plot the prediction curve, create an array of x data and corresponding y data:\n",
    "x_array = np.arange(0, 2*np.pi, 0.01)\n",
    "y_pred = np.zeros_like(x_array)\n",
    "for i, x in enumerate(x_array):\n",
    "    y_pred[i] = np.sum([w[j]*x**j for j in range(m)])\n",
    "    \n",
    "plt.plot(x_array, y_pred)\n",
    "plt.plot(x_data, y_data, 'o')\n",
    "plt.xlabel('x')\n",
    "plt.ylabel('y')"
   ]
  },
  {
   "cell_type": "markdown",
   "metadata": {},
   "source": [
    "**Exercise 1** (3 pts): Turn the above block of code into a function, `mse(x_data, y_data, m, alpha)`, that fits a polynomial with `m` parameters to data with regularization parameter `alpha`, as in the above block of code, and returns the MSE. Use this function to plot the MSE for different values of `alpha`, using `plt.semilogx()` to scale the x-axis logarithmically. Explain why the curve that you plot looks the way that it does."
   ]
  },
  {
   "cell_type": "code",
   "execution_count": 56,
   "metadata": {},
   "outputs": [
    {
     "data": {
      "text/plain": [
       "Text(0, 0.5, 'mse(alpha)')"
      ]
     },
     "execution_count": 56,
     "metadata": {},
     "output_type": "execute_result"
    },
    {
     "data": {
      "image/png": "[encoded data removed]",
      "text/plain": [
       "<Figure size 432x288 with 1 Axes>"
      ]
     },
     "metadata": {
      "needs_background": "light"
     },
     "output_type": "display_data"
    }
   ],
   "source": [
    "## Solution ##\n",
    "alpha = 10**(12)\n",
    "\n",
    "def weight_vec(x, y, m, alpha):\n",
    "    # Create the design matrix:\n",
    "    n = np.shape(x_data)[0]\n",
    "    phi = np.zeros((n, m))\n",
    "    for j in range(m):\n",
    "        phi[:,j] = x_data**j\n",
    "\n",
    "    # The weight vector minimizing the mean squared error:\n",
    "    return np.linalg.inv(alpha*np.eye(m) + phi.T @ phi) @ phi.T @ y_data\n",
    "\n",
    "def mse(x_data, y_data, m, alpha):\n",
    "    w = weight_vec(x_data, y_data, m, alpha)\n",
    "    \n",
    "    y_diff = np.zeros_like(x_data)\n",
    "    for i in range(n):\n",
    "        y_diff[i] = y_data[i] - np.sum([w[j]*x_data[i]**j for j in range(m)])\n",
    "    \n",
    "    mse = sum(x**2 for x in y_diff)/n\n",
    "    return mse\n",
    "\n",
    "#plotting\n",
    "alpha_array = np.arange(0, 12, 0.1)\n",
    "mse_alpha_array = np.zeros_like(alpha_array)\n",
    "\n",
    "for i, x in enumerate(alpha_array):\n",
    "    mse_alpha_array[i] = mse(x_data, y_data, m, 10**x)\n",
    "    alpha_array[i] = 10**x\n",
    "\n",
    "plt.plot(alpha_array, mse_alpha_array, 'o')\n",
    "plt.semilogx()\n",
    "plt.xlabel('alpha')\n",
    "plt.ylabel('mse(alpha)')\n"
   ]
  },
  {
   "cell_type": "markdown",
   "metadata": {},
   "source": [
    "This graph matches expectation. As we increase the regularization factor $\\alpha$, we are increasing the penalty for more complicated functions. Consequently, the fitted polynomial will be simpler (ie, we have preference for a lower degree polynomial). For sufficiently complicated data, it will not be possible to fit via a simple polynomial so the error is expected to increase as we use simpler models."
   ]
  },
  {
   "cell_type": "markdown",
   "metadata": {},
   "source": [
    "**Exercise 2** (3 points): Create another version of the function from above, calling the new version `mse_cv(x_data, y_data, m, alpha, cv, make_plot)`, that takes two new Boolean arguments. \n",
    "- If `cv=True`, perform cross-validation by splitting the data into training and testing sets and performing the fit with just the training data. The function should return both the MSE computed with the training data and the MSE computed with the testing data. \n",
    "- If `make_plot=True`, plot the data together with the fit. If cross-validation is used, plot the training and testing data in separate colors, with a legend to distinguish them."
   ]
  },
  {
   "cell_type": "code",
   "execution_count": 57,
   "metadata": {},
   "outputs": [
    {
     "name": "stdout",
     "output_type": "stream",
     "text": [
      "(0.08507694352567662, 0.09128923970792319)\n"
     ]
    },
    {
     "data": {
      "image/png": "[encoded data removed]",
      "text/plain": [
       "<Figure size 432x288 with 1 Axes>"
      ]
     },
     "metadata": {
      "needs_background": "light"
     },
     "output_type": "display_data"
    }
   ],
   "source": [
    "## Solution  ##\n",
    "\n",
    "alpha=0\n",
    "\n",
    "def mse_cv(x_data, y_data, m, alpha, cv=True, make_plot=False):\n",
    "    if cv==False:\n",
    "        mse_full = mse(x_data, y_data, m, alpha)\n",
    "        \n",
    "        if make_plot == True:\n",
    "            x_array = np.arange(0, 2*np.pi, 0.01)\n",
    "            y_pred = np.zeros_like(x_array)\n",
    "            for i, x in enumerate(x_array):\n",
    "                y_pred[i] = np.sum([w[j]*x**j for j in range(m)])\n",
    "            \n",
    "            plt.plot(x_array, y_pred)\n",
    "            plt.plot(x_data, y_data, 'o')\n",
    "            plt.xlabel('x')\n",
    "            plt.ylabel('y')\n",
    "            \n",
    "    else:\n",
    "        # split up data into training and validation sets\n",
    "        x_train, y_train = x_data[:n//2], y_data[:n//2]\n",
    "        x_val, y_val = x_data[n//2:], y_data[n//2:]\n",
    "        n_train, n_val = len(x_train), len(x_val)\n",
    "        \n",
    "        # weight vector\n",
    "        w = weight_vec(x_train, y_train, m, alpha)\n",
    "    \n",
    "        # computing mse on the training set and validation sets\n",
    "        y_diff_train, y_diff_val = np.zeros_like(x_train), np.zeros_like(x_val)\n",
    "        for i in range(n_train):\n",
    "            y_diff_train[i] = y_train[i] - np.sum([w[j]*x_train[i]**j for j in range(m)])\n",
    "        for i in range(n_val):\n",
    "            y_diff_val[i] = y_val[i] - np.sum([w[j]*x_val[i]**j for j in range(m)])\n",
    "        mse_full = (sum(x**2 for x in y_diff_train)/n_train, sum(x**2 for x in y_diff_val)/n_val)\n",
    "        \n",
    "        if make_plot == True:\n",
    "            x_array = np.arange(0, 2*np.pi, 0.01)\n",
    "            y_pred = np.zeros_like(x_array)\n",
    "            for i, x in enumerate(x_array):\n",
    "                y_pred[i] = np.sum([w[j]*x**j for j in range(m)])\n",
    "            \n",
    "            plt.plot(x_array, y_pred)\n",
    "            plt.plot(x_train, y_train, 'o', label='training')\n",
    "            plt.plot(x_val, y_val, 'o', label='validation')  \n",
    "            plt.legend(loc='upper left')\n",
    "            plt.xlabel('x')\n",
    "            plt.ylabel('y')\n",
    "        \n",
    "    return mse_full\n",
    "        \n",
    "print(mse_cv(x_data, y_data, m, alpha, True, True))\n"
   ]
  },
  {
   "cell_type": "markdown",
   "metadata": {},
   "source": [
    "**Exercise 3** (3 points): Use the above function to make a plot of both the training and testing MSE for various values of `alpha`. (This will work best if the values are evenly spaced on a log scale.) Report the value of `alpha` (an approximate value is fine) that minimizes the testing MSE. Finally, use the `make_plot` option in the function above to make two plots of the data along with the fits, where one fit doesn't use regularization, and the other fit uses the optimal value that was just found."
   ]
  },
  {
   "cell_type": "code",
   "execution_count": 58,
   "metadata": {},
   "outputs": [
    {
     "name": "stdout",
     "output_type": "stream",
     "text": [
      "The alpha which minimizes mse_val is  3.9810717055347578 with a validation error of 0.08751090020137878\n"
     ]
    },
    {
     "data": {
      "image/png": "[encoded data removed]",
      "text/plain": [
       "<Figure size 432x288 with 1 Axes>"
      ]
     },
     "metadata": {
      "needs_background": "light"
     },
     "output_type": "display_data"
    }
   ],
   "source": [
    "## Solution ##\n",
    "\n",
    "#plotting\n",
    "alpha_array = np.arange(-6, 1, 0.1)\n",
    "mse_train_alpha_array, mse_val_alpha_array = np.zeros_like(alpha_array), np.zeros_like(alpha_array)\n",
    "\n",
    "for i, x in enumerate(alpha_array):\n",
    "    mse_train_alpha_array[i], mse_val_alpha_array[i] = mse_cv(x_data, y_data, m, 10**x, cv=True, make_plot=False)\n",
    "    alpha_array[i] = 10**x\n",
    "\n",
    "plt.plot(alpha_array, mse_train_alpha_array, 'o', label='training mse')\n",
    "plt.plot(alpha_array, mse_val_alpha_array, 'o', label='validation mse')\n",
    "plt.legend(loc='upper left')\n",
    "plt.semilogx()\n",
    "plt.xlabel('alpha')\n",
    "plt.ylabel('mse(alpha)')\n",
    "\n",
    "where_alpha = np.argmin(mse_val_alpha_array)\n",
    "min_alpha = alpha_array[where_alpha]\n",
    "print(\"The alpha which minimizes mse_val is \", min_alpha, \"with a validation error of\", mse_val_alpha_array[where_alpha])\n",
    "                        "
   ]
  },
  {
   "cell_type": "code",
   "execution_count": 59,
   "metadata": {},
   "outputs": [],
   "source": [
    "## Solution ##\n",
    "\n"
   ]
  },
  {
   "cell_type": "markdown",
   "metadata": {},
   "source": [
    "## Linear regression with a built-in function\n",
    "\n",
    "Now let's get the same results with less work using a built-in package. \n",
    "\n",
    "**Exercise 4** (3 points): Read the documentation for `linear_model.LinearRegression()` from the `sklearn` library, which contains implementations of lots of standard machine algorithms. Following the example in the documentation, and without using regularization, fit a linear model to the first half of our data, then use the `.score()` method to quantify the goodness of fit for both the training set and the testing set. (Note that the score being returned by this function is given by $r^2 = 1 - \\mathrm{MSE}/\\sigma^2$, where $\\sigma^2$ is the variance of the data along the y dimension. This means that scores close to 1 are very good, while negative scores or scores close to zero are bad.) Plot the fit along with the data, with the training and testing data in different colors. The result should match the plot we made above."
   ]
  },
  {
   "cell_type": "code",
   "execution_count": 60,
   "metadata": {},
   "outputs": [],
   "source": [
    "from sklearn import linear_model"
   ]
  },
  {
   "cell_type": "code",
   "execution_count": 61,
   "metadata": {},
   "outputs": [
    {
     "name": "stdout",
     "output_type": "stream",
     "text": [
      "(0.5011045172022398, 0.5300289706977959)\n"
     ]
    },
    {
     "data": {
      "text/plain": [
       "[<matplotlib.lines.Line2D at 0x14e569210>]"
      ]
     },
     "execution_count": 61,
     "metadata": {},
     "output_type": "execute_result"
    },
    {
     "data": {
      "image/png": "[encoded data removed]",
      "text/plain": [
       "<Figure size 432x288 with 1 Axes>"
      ]
     },
     "metadata": {
      "needs_background": "light"
     },
     "output_type": "display_data"
    }
   ],
   "source": [
    "## Solution ##\n",
    "\n",
    "# split up data into training and validation sets\n",
    "x_train, y_train = x_data[:n//2], y_data[:n//2]\n",
    "x_val, y_val = x_data[n//2:], y_data[n//2:]\n",
    "n_train, n_val = len(x_train), len(x_val)\n",
    "\n",
    "# reshaping the arrays to make it happy with sklearn packages\n",
    "x_train = np.reshape(x_train,(-1,1))\n",
    "y_train = y_train.reshape(-1,1)\n",
    "\n",
    "x_val = np.reshape(x_val,(-1,1))\n",
    "y_val = np.reshape(y_val,(-1,1))\n",
    "\n",
    "# Create linear regression object\n",
    "regr = linear_model.LinearRegression()\n",
    "\n",
    "# Train the model using the training sets\n",
    "fit = regr.fit(x_train, y_train)\n",
    "\n",
    "# Score the linear fit, first entry is scored with training data and second set is scored with validation data\n",
    "score = (fit.score(x_train,y_train), fit.score(x_val,y_val))\n",
    "print(score)\n",
    "\n",
    "# Making plots\n",
    "y_pred = regr.predict(x_val)\n",
    "\n",
    "plt.scatter(x_train, y_train, color=\"orange\")\n",
    "plt.scatter(x_val, y_val, color=\"green\")\n",
    "plt.plot(x_val, y_pred, color=\"blue\", linewidth=3)"
   ]
  },
  {
   "cell_type": "markdown",
   "metadata": {},
   "source": [
    "**Exercise 5** (3 points): Repeat the previous exercise, now using `linear_model.RidgeCV()`, which uses ridge regression (i.e. regularized just as with our `alpha` parameter above) with built-in cross validation (i.e. cross-validation is used to select the best regularization value as we did above, then the result is reported using this optimal value). You should find that the scores for the training and testing datasets are much more similar than before."
   ]
  },
  {
   "cell_type": "code",
   "execution_count": 62,
   "metadata": {},
   "outputs": [
    {
     "name": "stdout",
     "output_type": "stream",
     "text": [
      "(0.487142287391899, 0.48148898517569394)\n"
     ]
    },
    {
     "data": {
      "text/plain": [
       "[<matplotlib.lines.Line2D at 0x14e5b4070>]"
      ]
     },
     "execution_count": 62,
     "metadata": {},
     "output_type": "execute_result"
    },
    {
     "data": {
      "image/png": "[encoded data removed]",
      "text/plain": [
       "<Figure size 432x288 with 1 Axes>"
      ]
     },
     "metadata": {
      "needs_background": "light"
     },
     "output_type": "display_data"
    }
   ],
   "source": [
    "## Solution ### Create linear regression object\n",
    "regr = linear_model.RidgeCV()\n",
    "\n",
    "# Train the model using the training sets\n",
    "fit = regr.fit(x_train, y_train)\n",
    "\n",
    "# Score the linear fit, first entry is scored with training data and second set is scored with validation data\n",
    "score = (fit.score(x_train,y_train), fit.score(x_val,y_val))\n",
    "print(score)\n",
    "\n",
    "# Making plots\n",
    "y_pred = regr.predict(x_val)\n",
    "\n",
    "plt.scatter(x_train, y_train, color=\"orange\")\n",
    "plt.scatter(x_val, y_val, color=\"green\")\n",
    "plt.plot(x_val, y_pred, color=\"blue\", linewidth=3)\n",
    "\n"
   ]
  },
  {
   "cell_type": "code",
   "execution_count": null,
   "metadata": {},
   "outputs": [],
   "source": []
  }
 ],
 "metadata": {
  "kernelspec": {
   "display_name": "Python 3 (ipykernel)",
   "language": "python",
   "name": "python3"
  },
  "language_info": {
   "codemirror_mode": {
    "name": "ipython",
    "version": 3
   },
   "file_extension": ".py",
   "mimetype": "text/x-python",
   "name": "python",
   "nbconvert_exporter": "python",
   "pygments_lexer": "ipython3",
   "version": "3.10.2"
  }
 },
 "nbformat": 4,
 "nbformat_minor": 4
}
