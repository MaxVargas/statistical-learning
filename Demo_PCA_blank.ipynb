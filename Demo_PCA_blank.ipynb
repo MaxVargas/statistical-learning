{
 "cells": [
  {
   "cell_type": "code",
   "execution_count": 24,
   "metadata": {},
   "outputs": [],
   "source": [
    "import numpy as np\n",
    "import matplotlib.pyplot as plt"
   ]
  },
  {
   "cell_type": "markdown",
   "metadata": {},
   "source": [
    "In this notebook we demonstrate principal components analysis (PCA). First we will perform PCA by hand by computing eigenvalues and eigenvectors of the data covariance matrix; then we will show how to obtain the same results using the `sklearn` library."
   ]
  },
  {
   "cell_type": "code",
   "execution_count": 25,
   "metadata": {},
   "outputs": [
    {
     "data": {
      "text/plain": [
       "(-4.0, 4.0)"
      ]
     },
     "execution_count": 25,
     "metadata": {},
     "output_type": "execute_result"
    },
    {
     "data": {
      "image/png": "[encoded data removed]",
      "text/plain": [
       "<Figure size 288x288 with 1 Axes>"
      ]
     },
     "metadata": {
      "needs_background": "light"
     },
     "output_type": "display_data"
    }
   ],
   "source": [
    "# Make up some two-dimensional data\n",
    "n = 100\n",
    "mu = np.array([-0.5, 1.])\n",
    "sig = np.array([[1, -0.6], [-0.6, 0.8]])\n",
    "x = np.random.multivariate_normal(mu, sig, n)\n",
    "\n",
    "# Plot the data\n",
    "plt.figure(figsize=(4,4))\n",
    "plt.plot(x[:,0], x[:,1], 'o')\n",
    "plt.xlabel('x1')\n",
    "plt.ylabel('x2')\n",
    "plt.xlim(-4,4)\n",
    "plt.ylim(-4,4)"
   ]
  },
  {
   "cell_type": "markdown",
   "metadata": {},
   "source": [
    "First we'll do PCA by hand by computing the eigendecomposition of the covariance matrix.\n",
    "\n",
    "**Exercise**: Compute the covariance matrix from the data above, and show that it is similar to the covariance matrix that was used to generate the data. Compute the eigenvalues of the data covariance matrix. What is the fraction of the total variance accounted for by the first principal component?"
   ]
  },
  {
   "cell_type": "code",
   "execution_count": 1,
   "metadata": {},
   "outputs": [],
   "source": [
    "## Solution ##\n",
    "\n"
   ]
  },
  {
   "cell_type": "code",
   "execution_count": null,
   "metadata": {},
   "outputs": [],
   "source": [
    "# Plot the data together with the PCs scaled by the sqrt(variance) and centered with the data.\n",
    "\n",
    "# The mean of the data:\n",
    "x_mean = np.mean(x, axis=0)\n",
    "\n",
    "# Get the PC vectors and scaling factors, using evals and evecs computed above:\n",
    "[u1, u2] = evecs.T\n",
    "std1 = evals[0]**0.5\n",
    "std2 = evals[1]**0.5\n",
    "\n",
    "# Plot the data:\n",
    "plt.figure(figsize=(5,5))\n",
    "plt.plot(x[:,0], x[:,1], 'o', alpha=0.3)\n",
    "\n",
    "# Plot a line showing the first PC scaled by the sqrt(variance):\n",
    "plt.plot([x_mean[0] - std1*u1[0], x_mean[0] + std1*u1[0]], \n",
    "         [x_mean[1] - std1*u1[1], x_mean[1] + std1*u1[1]], lw=5)\n",
    "\n",
    "# Plot a line showing the second PC scaled by the sqrt(variance):\n",
    "plt.plot([x_mean[0] - std2*u2[0], x_mean[0] + std2*u2[0]], \n",
    "         [x_mean[1] - std2*u2[1], x_mean[1] + std2*u2[1]], lw=5)\n",
    "\n",
    "plt.xlabel('x1')\n",
    "plt.ylabel('x2')\n",
    "plt.xlim(-5,5)\n",
    "plt.ylim(-5,5)\n",
    "plt.legend(['data','PC1','PC2'])"
   ]
  },
  {
   "cell_type": "markdown",
   "metadata": {},
   "source": [
    "**Exercise**: Subtract the mean from the data and plot the data projected onto the two PC axes."
   ]
  },
  {
   "cell_type": "code",
   "execution_count": 2,
   "metadata": {},
   "outputs": [],
   "source": [
    "## Solution ##\n"
   ]
  },
  {
   "cell_type": "markdown",
   "metadata": {},
   "source": [
    "## PCA using sk-learn\n",
    "\n",
    "Now we'll do PCA on the above data using `sklearn`."
   ]
  },
  {
   "cell_type": "code",
   "execution_count": null,
   "metadata": {},
   "outputs": [],
   "source": [
    "from sklearn.decomposition import PCA\n",
    "\n",
    "# Perform PCA on the data:\n",
    "pca = PCA()\n",
    "pca.fit(x)\n",
    "PCs = pca.components_  # each row is one of the PC vectors\n",
    "print(PCs)\n",
    "\n",
    "# How much variance is explained by each PC?\n",
    "print('Variance explained by (PC1, PC2): ', pca.explained_variance_)\n",
    "print('Fraction of variance explained by (PC1, PC2): ', pca.explained_variance_ratio_)"
   ]
  },
  {
   "cell_type": "markdown",
   "metadata": {},
   "source": [
    "**Exercise**: (a) Show that the PC vectors obtained above are orthonormal. (b) As we did above, plot the mean-subtracted data projected onto the two PC vectors."
   ]
  },
  {
   "cell_type": "code",
   "execution_count": 4,
   "metadata": {},
   "outputs": [],
   "source": [
    "## Solution ##\n",
    "\n"
   ]
  },
  {
   "cell_type": "markdown",
   "metadata": {},
   "source": [
    "## PCA on the Iris dataset\n",
    "\n",
    "Let's load the iris dataset, in which each datapoint corresponds to four values measured for a particular flower, and the labels of datapoints correspond to the flowers' subspecies identities."
   ]
  },
  {
   "cell_type": "code",
   "execution_count": null,
   "metadata": {},
   "outputs": [],
   "source": [
    "# Load the data:\n",
    "from sklearn.datasets import load_iris\n",
    "data = load_iris()  # data is a dictionary containing lots of things\n",
    "\n",
    "# List of the features and targets being measured:\n",
    "print('Features: \\n', data['feature_names'])\n",
    "print('Targets: \\n', data['target_names'])\n",
    "\n",
    "# The input data (each row gives measurements of the features listed above):\n",
    "X_iris = data['data']\n",
    "n_samples, n_features = np.shape(data['data'])\n",
    "print('n_samples, n_features: ', (n_samples, n_features))\n",
    "\n",
    "# The target data (subspecies identity):\n",
    "y = data['target']\n",
    "\n",
    "# Print the first few samples of x and y data:\n",
    "print('X data: \\n', X_iris[:3,:])\n",
    "print('y data: \\n', y[:3])\n"
   ]
  },
  {
   "cell_type": "markdown",
   "metadata": {},
   "source": [
    "**Exercise**: Perform PCA on the iris data and plot the data projected onto the first two principal components. Report the fraction of variance explained by each principal component."
   ]
  },
  {
   "cell_type": "code",
   "execution_count": 6,
   "metadata": {},
   "outputs": [],
   "source": [
    "## Solution ##\n",
    "\n"
   ]
  },
  {
   "cell_type": "code",
   "execution_count": null,
   "metadata": {},
   "outputs": [],
   "source": []
  }
 ],
 "metadata": {
  "kernelspec": {
   "display_name": "Python 3 (ipykernel)",
   "language": "python",
   "name": "python3"
  },
  "language_info": {
   "codemirror_mode": {
    "name": "ipython",
    "version": 3
   },
   "file_extension": ".py",
   "mimetype": "text/x-python",
   "name": "python",
   "nbconvert_exporter": "python",
   "pygments_lexer": "ipython3",
   "version": "3.9.5"
  }
 },
 "nbformat": 4,
 "nbformat_minor": 4
}
