{
 "cells": [
  {
   "cell_type": "markdown",
   "metadata": {},
   "source": [
    "# Mathematical exercises\n",
    "\n",
    "Solutions to the following exercises may be either typed into the submitted Jupyter notebook, or handwritten solutions may be scanned and submitted as a separate PDF file.\n",
    "\n",
    "1. Exercise 1.6 from the PRML textbook (3 points). Show that if two variables $x$ and $y$ are independent, then their covairance is zero.\n",
    "\n",
    "By definition, ${\\rm cov}[x,y] = \\mathbb{E}_{x,y}[xy] - \\mathbb{E}[x]\\mathbb{E}[y]$. Since $x$ and $y$ are independent, we have $p(x,y) = p(x)p(y)$ and an application of Fubini's theorem gives that\n",
    "\n",
    "$$\\mathbb{E}_{x,y}[xy] = \\int xyp(x,y)dxdy = \\int xp(x)dx \\int yp(y) dy = \\mathbb{E}[x] \\mathbb{E}[y]$$\n",
    "\n",
    "2. Exercise 1.12 from the PRML textbook (3 points). Using the following equations, \n",
    "$$\\mathbb{E}[x] = \\int_{-\\infty}^\\infty \\mathcal{N}(x\\mid\\mu\\sigma^2)xdx = \\mu, \\hspace{1in} \\mathbb{E}[x^2] = \\int_{-\\infty}^\\infty \\mathcal{N}(x\\mid\\mu\\sigma^2)x^2dx = \\mu^2 + \\sigma^2 $$\n",
    "show that $$\\mathbb{E}[x_nx_m] = \\mu^2 + \\delta_{nm}\\sigma^2$$\n",
    "where $x_n$ and $x_m$ denote data points sampled from a Gaussian distribution with mean $\\mu$ and variance $\\sigma^2$, and $\\delta_{mn}$ is the usual delta function.\n",
    "\n",
    "There are two cases to consider. If $m=n$, the points are the same and the result follows by an application of the second formula. If $m\\ne n$ then the points are independently distributed so their covariance is zero. In particular, $\\mathbb{E}[x_nx_m] = \\mathbb{E}[x_n]\\mathbb{E}[x_m] = \\mu^2$, where we have applied the first formula."
   ]
  },
  {
   "cell_type": "markdown",
   "metadata": {},
   "source": [
    "# Coding exercises\n",
    "\n",
    "In class, we generated some fake data and fit polynomials to the data. We noticed that higher-order polynomials did a good job of fitting the data, but a poor job of fitting new data that was generated in the same way. This is an example of **overfitting**.\n",
    "\n",
    "In this assignment, we will use **cross validation** to combat overfitting by selecting a model that optimally describes data that was *not* used to fit the model.\n",
    "\n",
    "Reminder: Once your notebook is complete, you should restart the kernel, run all of the cells in order, and make sure that no errors occur. Notebooks that run successfully without errors will be awarded one extra credit point."
   ]
  },
  {
   "cell_type": "code",
   "execution_count": 1,
   "metadata": {},
   "outputs": [],
   "source": [
    "import numpy as np\n",
    "import matplotlib.pyplot as plt"
   ]
  },
  {
   "cell_type": "markdown",
   "metadata": {},
   "source": [
    "First, as we did in class, let's make some fake data.\n"
   ]
  },
  {
   "cell_type": "code",
   "execution_count": 2,
   "metadata": {},
   "outputs": [
    {
     "data": {
      "text/plain": [
       "Text(0, 0.5, 'y')"
      ]
     },
     "execution_count": 2,
     "metadata": {},
     "output_type": "execute_result"
    },
    {
     "data": {
      "image/png": "[encoded data removed]",
      "text/plain": [
       "<Figure size 432x288 with 1 Axes>"
      ]
     },
     "metadata": {
      "needs_background": "light"
     },
     "output_type": "display_data"
    }
   ],
   "source": [
    "n = 30  # number of data points\n",
    "\n",
    "# Simulated data:\n",
    "x_data = 2*np.pi*np.random.rand(n)\n",
    "noise_amp = 0.3\n",
    "noise = noise_amp*np.random.randn(n)\n",
    "y_data = np.sin(x_data) + noise\n",
    "\n",
    "plt.plot(x_data, y_data, 'o')\n",
    "plt.xlabel('x')\n",
    "plt.ylabel('y')"
   ]
  },
  {
   "cell_type": "markdown",
   "metadata": {},
   "source": [
    "In class, we used the function `np.polyfit()` to fit the data with a polynomial:\n",
    "$$\n",
    "\\hat{y} = \\beta_0 + \\beta_1 x + \\ldots + \\beta_{p-1} x^{p-1}\n",
    "$$"
   ]
  },
  {
   "cell_type": "code",
   "execution_count": 3,
   "metadata": {},
   "outputs": [
    {
     "name": "stdout",
     "output_type": "stream",
     "text": [
      "Polynomial coefficients: \n",
      " [-5.41232804e+01  4.10419762e+02 -1.26545684e+03  2.14760829e+03\n",
      " -2.25570766e+03  1.56076203e+03 -7.36410466e+02  2.40687033e+02\n",
      " -5.44573234e+01  8.36719115e+00 -8.32801340e-01  4.84158161e-02\n",
      " -1.24782469e-03]\n"
     ]
    }
   ],
   "source": [
    "# A polynomial fit:\n",
    "p = 12\n",
    "fit = np.polyfit(x_data, y_data, p)\n",
    "beta_list = fit[::-1]  # flip the list so that it starts with beta0\n",
    "print('Polynomial coefficients: \\n', beta_list)\n",
    "\n",
    "\n",
    "# The following function gives us the y value of our fitting curve given the x value:\n",
    "def yhat(x, beta_list):\n",
    "    '''\n",
    "    Given the x value and the list of polynomial coefficients, return the y value.\n",
    "    '''\n",
    "    y = 0\n",
    "    for p in range(len(beta_list)):\n",
    "        y = y + beta_list[p]*x**p\n",
    "        \n",
    "    return y"
   ]
  },
  {
   "cell_type": "code",
   "execution_count": 4,
   "metadata": {},
   "outputs": [
    {
     "data": {
      "image/png": "[encoded data removed]",
      "text/plain": [
       "<Figure size 432x288 with 1 Axes>"
      ]
     },
     "metadata": {
      "needs_background": "light"
     },
     "output_type": "display_data"
    }
   ],
   "source": [
    "# Plot the data together with the fit.\n",
    "\n",
    "x_pts = np.arange(0,2*np.pi,0.01)\n",
    "y_fit = yhat(x_pts, beta_list)\n",
    "\n",
    "plt.plot(x_data, y_data, 'o')\n",
    "plt.xlabel('x')\n",
    "plt.ylabel('y')\n",
    "plt.plot(x_pts, y_fit)\n",
    "plt.ylim(-2,2);"
   ]
  },
  {
   "cell_type": "markdown",
   "metadata": {},
   "source": [
    "How do we decide how good a fit like this is? To do this, we can use the mean squared error, which is the average squared distance between the data points and the curve at each x value in the dataset:\n",
    "$$\n",
    "\\mathrm{MSE} = \\frac{1}{n} \\sum_{i=1}^n (y_i - \\hat{y}(x_i))^2,\n",
    "$$\n",
    "where $(x_i, y_i)$ denotes one of the data points, and $\\hat{y}(x)$ is the curve that fits the data. If the MSE is close to zero, then the curve is doing a good job of fitting the data."
   ]
  },
  {
   "cell_type": "markdown",
   "metadata": {},
   "source": [
    "**Exercise 1** (3 points): Create a function `mse(x, y, p)` that fits a polynomial of order `p` to data `x` and `y` and returns the mean squared error from the fit."
   ]
  },
  {
   "cell_type": "code",
   "execution_count": 5,
   "metadata": {},
   "outputs": [
    {
     "name": "stdout",
     "output_type": "stream",
     "text": [
      "0.051499431874776666\n"
     ]
    }
   ],
   "source": [
    "## Solution ##\n",
    "def mse(x, y, p):\n",
    "    fit = np.polyfit(x, y, p)\n",
    "    beta_list = fit[::-1]\n",
    "    return np.sum((y-yhat(x,beta_list))**2)/np.size(x)\n",
    "\n",
    "print(mse(x_data,y_data,16))"
   ]
  },
  {
   "cell_type": "markdown",
   "metadata": {},
   "source": [
    "**Exercise 2** (3 points): For the data that we generated above, make a plot of the MSE for different values of $p$. Make sure to label the axes appropriately. You should find that the MSE decreases as $p$ increases."
   ]
  },
  {
   "cell_type": "code",
   "execution_count": 6,
   "metadata": {},
   "outputs": [
    {
     "data": {
      "image/png": "[encoded data removed]",
      "text/plain": [
       "<Figure size 432x288 with 1 Axes>"
      ]
     },
     "metadata": {
      "needs_background": "light"
     },
     "output_type": "display_data"
    }
   ],
   "source": [
    "## Solution ##\n",
    "P = 17\n",
    "x_mse = np.arange(0,P,1)\n",
    "y_mse = np.zeros((P,))\n",
    "\n",
    "for i in range(P):\n",
    "    y_mse[i] = mse(x_data,y_data,i)\n",
    "\n",
    "plt.plot(x_mse, y_mse, 'o')\n",
    "plt.xlabel('p')\n",
    "plt.ylabel('mse(p)');\n"
   ]
  },
  {
   "cell_type": "markdown",
   "metadata": {},
   "source": [
    "In class, we found that, although higher-order polynomials may fit the data very well, they typically won't do a great job at describing new data that was not used for the fit. The idea of **cross validation** is to split the data into a **training set** and a **testing set**. The training set is used for fitting, and the testing set is used to quantify the goodness of the fit."
   ]
  },
  {
   "cell_type": "markdown",
   "metadata": {},
   "source": [
    "**Exercise 3** (5 pts): Create a new version of the function from the previous exercise. Call this function `mse_cv(x, y, p)`, which takes the same arguments as before. In this version, use the first half of the `x` and `y` data to perform the fit with a polynomial of order `p`. Compute the MSE using this first half of the data (the \"training set\"), then separately compute the MSE using the \"held out\" second half of the data (the \"testing set\"). Have the function return both MSE values. Finally, make a plot showing both the training MSE and the testing MSE for different values of $p$, using a legend to show which curve is which, and report the order of the polynomial that gives the optimal fit using cross-validation."
   ]
  },
  {
   "cell_type": "code",
   "execution_count": 7,
   "metadata": {},
   "outputs": [
    {
     "data": {
      "image/png": "[encoded data removed]",
      "text/plain": [
       "<Figure size 432x288 with 1 Axes>"
      ]
     },
     "metadata": {
      "needs_background": "light"
     },
     "output_type": "display_data"
    }
   ],
   "source": [
    "## Solution ##\n",
    "def mse_cv(x, y, p):\n",
    "    x_train, y_train = x[:n//2], y[:n//2]\n",
    "    x_val, y_val = x[n//2:], y[n//2:]\n",
    "    fit = np.polyfit(x_train, y_train, p)\n",
    "    beta_list = fit[::-1]\n",
    "    '''\n",
    "    # Plots the cross validate fit against data\n",
    "    y_cv_fit = yhat(x_pts, beta_list)\n",
    "\n",
    "    plt.plot(x_data, y_data, 'o')\n",
    "    plt.xlabel('x')\n",
    "    plt.ylabel('y')\n",
    "    plt.plot(x_pts, y_cv_fit)\n",
    "    plt.ylim(-2,2);\n",
    "    '''\n",
    "    return np.sum((y_val-yhat(x_val,beta_list))**2)/np.size(x_val)\n",
    "\n",
    "\n",
    "Q = 12\n",
    "x_mse_cv = np.arange(0,Q,1)\n",
    "y_mse_cv = np.zeros((Q,))\n",
    "\n",
    "for i in range(Q):\n",
    "    y_mse_cv[i] = mse_cv(x_data,y_data,i)\n",
    "\n",
    "plt.plot(x_mse_cv, y_mse_cv, 'o')\n",
    "plt.xlabel('q')\n",
    "plt.ylabel('mse(q)')\n",
    "plt.ylim(0,1);"
   ]
  },
  {
   "cell_type": "code",
   "execution_count": null,
   "metadata": {},
   "outputs": [],
   "source": []
  },
  {
   "cell_type": "code",
   "execution_count": null,
   "metadata": {},
   "outputs": [],
   "source": []
  }
 ],
 "metadata": {
  "kernelspec": {
   "display_name": "Python 3 (ipykernel)",
   "language": "python",
   "name": "python3"
  },
  "language_info": {
   "codemirror_mode": {
    "name": "ipython",
    "version": 3
   },
   "file_extension": ".py",
   "mimetype": "text/x-python",
   "name": "python",
   "nbconvert_exporter": "python",
   "pygments_lexer": "ipython3",
   "version": "3.9.7"
  }
 },
 "nbformat": 4,
 "nbformat_minor": 4
}
