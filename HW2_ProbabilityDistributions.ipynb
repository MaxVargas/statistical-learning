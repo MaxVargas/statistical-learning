{
 "cells": [
  {
   "cell_type": "markdown",
   "metadata": {},
   "source": [
    "# Mathematical exercises\n",
    "\n",
    "Solutions to the following exercises may be either typed into the submitted Jupyter notebook, or handwritten solutions may be scanned and submitted as a separate PDF file.\n"
   ]
  },
  {
   "cell_type": "markdown",
   "metadata": {},
   "source": [
    "**Exercise 1** (3 points): Problem 2.4 from the PRML textbook. Show that the mean of the binomial distribution is given by the formula:\n",
    "$$\\mathbb{E}[x] := \\sum_{m=0}^Nm\\operatorname{Bim}(m|N,\\mu) = N\\mu $$\n",
    "Then prove that the variance is given by:\n",
    "$$\\operatorname{Var}[m] := \\sum_{m=0}^N(m-\\mathbb{E}[m])^2\\operatorname{Bim}(m|N,\\mu) = N\\mu(1-\\mu)$$\n",
    "-----\n",
    "We first recall that $\\operatorname{Bim}(m|N,\\mu) = \\binom{N}{m}\\mu^m(1-\\mu)^{N-m}$ and the binomial theorem $\\sum_{m=0}^N\\binom{N}{m}\\mu^m(1-\\mu)^{N-m} = 1$. Differentiating this with respect to $\\mu$ gives\n",
    "$$\\sum_{m=0}^N\\binom{N}{m}\\left(m\\mu^{m-1}(1-\\mu)^{N-m} + \\mu^m(1-\\mu)^{N-m-1}(N-m)(-1)\\right) = 0,$$\n",
    "which can be rearranged to give\n",
    "$$\\sum_{m=0}^N \\binom{N}{m}m\\mu^{m-1}(1-\\mu)^{N-m-1} = \\sum_{m=0}^N\\binom{N}{m}\\mu^m(1-\\mu)^{N-m-1}$$\n",
    "Multiplying both sides of this equation by $\\mu(1-\\mu)$ and applying the binomial theorem once more gives the desired result:\n",
    "$$\\mathbb{E}[m] = \\sum_{m=0}^N\\binom{N}{m}m\\mu^m(1-\\mu)^{N-m}= N\\mu\\sum_{m=0}^N\\binom{N}{m}\\mu^m(1-\\mu)^{N-m} = N\\mu$$\n",
    "\n",
    "The variance can be calculated similarly, differentiating the binomial theorem twice with respect to $\\mu$.\n",
    "\n",
    "----\n",
    "**Exercise 2** (5 points): Problem 2.18 from the PRML textbook. Consider a real symmetric matrix $\\Sigma$ with eigenvalue equations\n",
    "$$\\Sigma \\boldsymbol{u}_i = \\lambda_i\\boldsymbol{u}_i, \\hspace{1in} i=1,\\ldots,D.$$\n",
    "By taking the complex conjugate of this equation and subtracting the original equation, and then forming the inner product with eigenvector $\\boldsymbol{u}_i$, show that the eigenvalues $\\lambda_i$ are real. Then use the symmetry of $\\Sigma$ to show that $\\boldsymbol{u}_i$ and $\\boldsymbol{u}_j$ are orthogonal provided that $\\lambda_i\\ne\\lambda_j$. Finally show that without loss of generality the set of eigenvectors can be chosen to be orthonormal so that they satisfy the equation\n",
    "$$\\boldsymbol{u}_i^T\\boldsymbol{u}_j = \\delta_{ij}$$\n",
    "\n",
    "----\n",
    "From the equation $\\Sigma \\boldsymbol{u}_i = \\lambda\\boldsymbol{u}_i$, we can recover\n",
    "$$\\overline{\\Sigma\\boldsymbol{u}_i} - \\Sigma\\boldsymbol{u}_i = \\overline{\\lambda_i\\boldsymbol{u}_i} - \\lambda_i\\boldsymbol{u}_i$$\n",
    "Multiplying on the left by $\\boldsymbol{u}_i^T$ and noting that $\\overline{\\Sigma} = \\Sigma = \\Sigma^T$, we have\n",
    "$$\\boldsymbol{u}_i^T(\\overline{\\Sigma\\boldsymbol{u}_i} - \\Sigma\\boldsymbol{u}_i) = \\boldsymbol{u}_i^T(\\overline{\\lambda_i\\boldsymbol{u}_i} - \\lambda_i\\boldsymbol{u}_i)$$\n",
    "$$\\lambda_i\\boldsymbol{u}_i^T(\\overline{\\boldsymbol{u}_i} - \\boldsymbol{u}_i) = \\overline{\\lambda}_i\\boldsymbol{u}_i^T \\overline{\\boldsymbol{u}_i} - \\lambda_i \\boldsymbol{u}_i^T\\boldsymbol{u}_i$$\n",
    "$$\\lambda_i\\boldsymbol{u}_i^T\\overline{\\boldsymbol{u}_i} = \\overline{\\lambda_i} \\boldsymbol{u}_i^T\\overline{\\boldsymbol{u}_i}$$\n",
    "\n",
    "The Hermetian inner product is positive definite so we must have $\\lambda_i = \\overline{\\lambda_i}$ and hence the eigenvalues are real. To recover orthogonality of the eigenvectors whenever $\\lambda_i\\ne\\lambda_j$, just examine the following equation\n",
    "$$\\lambda_j\\boldsymbol{u}_i^T\\boldsymbol{u}_j = (\\Sigma\\boldsymbol{u}_i)^T\\boldsymbol{u}_j = \\boldsymbol{u}_i^T\\Sigma^T \\boldsymbol{u}_j = \\boldsymbol{u}_i^T\\Sigma \\boldsymbol{u}_j = \\lambda_i\\boldsymbol{u}_i^T \\boldsymbol{u}_j$$\n",
    "Finally, within each eigenspace, one can simply choose suitably normalized orthogonal vectors. These will still satisfy the necessary conditions."
   ]
  },
  {
   "cell_type": "markdown",
   "metadata": {},
   "source": [
    "##  The Central Limit Theorem for the binomial distribution\n",
    "\n",
    "In class, we focused on the binomial distribution, which describes discrete variables, as well as the Gaussian (aka normal) distribution, which describes continuous variables. One reason, among zillions, for why the Gaussian function is useful and ubiquitous is because of the Central Limit Theorem, which states that, under some mild assumptions, a sum of a large number of random variables (or, equivalently, the mean, which is just the sum divided by the number of variables) tends to be normally distributed, even if the variables themselves do not come from a normal distribution.\n",
    "\n",
    "Here, we will show that the binomial distribution becomes a normal distribution when the number of samples becomes large. Recall that a variable $m$ drawn from the binomial distribution $\\mathrm{Bin}(m | N, \\mu)$ describes the number of observations in which a binary variable takes the value 1, given that there are $N$ total observations, and each observation gives 1 with probability $\\mu$ (or 0 otherwise). If we let $m=xN$, then $x$ is a random variable describing the fraction of observations in which 1 is observed.\n",
    "\n",
    "Because $x$ is an average of $N$ random binary variables, we expect the Central Limit Theorem to apply. In the two exercises that follow, we will show that $p(x) = \\mathrm{Bin}(xN | N, \\mu)$ becomes a normal distribution as $N \\to \\infty$.\n",
    "\n",
    "**Exercise 3a** (2 points): Use Stirling's approximation $\\ln N! \\approx N(\\ln N - 1)$ (valid for $N \\gg 1$) to show that $p(x) \\propto \\exp[N f(x)]$, where $f(x)$ is independent of $N$, and derive $f(x)$.\n",
    "\n",
    "-----\n",
    "\n",
    "Using Stirling's approximation as $N\\to\\infty$ along with the fact that $\\mu^{xN}=\\exp(xN\\ln(\\mu)), (1-\\mu)^{N-xN} = \\exp((N-xN)\\ln(1-\\mu))$,\n",
    "$$\\mathrm{Bin}(m | N, \\mu) \\propto \\frac{\\exp(N(\\ln N - 1))}{\\exp(N(1-x)(\\ln(N(1-x))-1))\\exp(xN(\\ln(xN)-1))}\\exp(xN\\ln(\\mu))\\exp((N-xN)\\ln(1-\\mu))$$\n",
    "\n",
    "This simplifies tremendously to\n",
    "$$\\exp[N (x\\ln(\\mu/x)- (1-x)\\ln((1-\\mu)/(1-x)))]$$\n",
    "\n",
    "From which we see $f(x) = x\\ln(\\mu/x)- (1-x)\\ln((1-\\mu)/(1-x))$. Finally, a simple computation yields\n",
    "\n",
    "$$f'(x) = \\ln(\\mu) - \\ln(x) + \\ln(1-x) - \\ln(1-\\mu) = \\ln\\left(\\frac{\\mu}{x}\\cdot \\frac{1-x}{1-\\mu}\\right)$$\n",
    "\n",
    "**Exercise 3b** (2 points). As $N \\to \\infty$, we can apply the method of steepest descent, which means that the exponential in $p(x)$ will be vanishingly small except for values of $x$ very close to the maximum of $f(x)$. Solve for $x^*$ which maximizes $f(x)$ and perform a Taylor expansion to second order, leading to $p(x) = \\exp[-\\frac{1}{2\\sigma^2}(x - x^*)^2]$ (we aren't worried about the normalization in front of the exponent). What are $x^*$ and $\\sigma$? How are they related to the mean and variance of the binomial distribution that we started with? This relation turns out to be a general one, applying to other distributions as well as the binomial distribution.\n",
    "\n",
    "---\n",
    "\n",
    "Setting $f'(x)=0$, it is evident that $x^*=\\mu$. Noting that $f(\\mu)=0$, the first nonzero term in the Taylor expansion is the quadratic term. It is calculated that\n",
    "\n",
    "$$f''(x) = -\\frac{1}{x} - \\frac{1}{1-x} = -\\frac{1}{x(1-x)}$$\n",
    "\n",
    "So finally $p(x) \\approx \\exp(Nf(x)) \\approx \\exp(-\\frac{N}{2\\mu(1-\\mu)}(x-\\mu)^2)$. And so we see that $\\sigma = \\sqrt{\\mu(1-\\mu)}/N$, which differs by the standard deviation of the original distribution by a factor of $N$. Note this agrees with the central limit theorem since $\\mathrm{Bim}(m | N, \\mu)$ is a sum of $N$ binary random variables, each i.i.d with a variance of $\\mu(1-\\mu)$.\n"
   ]
  },
  {
   "cell_type": "markdown",
   "metadata": {},
   "source": []
  },
  {
   "cell_type": "markdown",
   "metadata": {},
   "source": [
    "# Coding exercises\n",
    "\n",
    "In the exercises that follow, we will use simulated data to check the predictions of the Central Limit Theorem.\n",
    "\n",
    "Reminder: Once your notebook is complete, you should restart the kernel, run all of the cells in order, and make sure that no errors occur. Notebooks that run successfully without errors will be awarded one extra credit point."
   ]
  },
  {
   "cell_type": "code",
   "execution_count": 87,
   "metadata": {},
   "outputs": [],
   "source": [
    "import numpy as np\n",
    "import matplotlib.pyplot as plt"
   ]
  },
  {
   "cell_type": "markdown",
   "metadata": {},
   "source": [
    "**Exercise 1** (3 points): Let $\\{m_1, m_2, \\ldots, m_M\\}$ be random variables drawn from the binomial distribution $\\mathrm{Bin}(m | N, \\mu)$, and let $x_i = m_i/N$. Plot two histograms of the distributions of $m_i$: one with $N=20$ and another with $N=10,000$. In both plots, use $M = 10,000$ and $\\mu = 0.8$. The function `np.random.binomial()` may be useful. Give each plot appropriate axes labels and title. Describe how the two distributions appear to differ."
   ]
  },
  {
   "cell_type": "code",
   "execution_count": 88,
   "metadata": {},
   "outputs": [
    {
     "data": {
      "text/plain": [
       "Text(0, 0.5, 'Number of outcomes with frequency')"
      ]
     },
     "execution_count": 88,
     "metadata": {},
     "output_type": "execute_result"
    },
    {
     "data": {
      "image/png": "[encoded data removed]",
      "text/plain": [
       "<Figure size 432x288 with 1 Axes>"
      ]
     },
     "metadata": {
      "needs_background": "light"
     },
     "output_type": "display_data"
    }
   ],
   "source": [
    "## Solution ##\n",
    "N1 = 20\n",
    "N2 = 10000\n",
    "mu = 0.8\n",
    "M = 10000\n",
    "\n",
    "x_data1 = np.random.binomial(N1,mu,M)/N1\n",
    "x_data2 = np.random.binomial(N2,mu,M)/N2\n",
    "\n",
    "plt.hist(x_data1, density=True, bins=10)\n",
    "plt.xlabel('Frequency of positive results, x=m/N')\n",
    "plt.ylabel('Number of outcomes with frequency')\n"
   ]
  },
  {
   "cell_type": "code",
   "execution_count": 89,
   "metadata": {},
   "outputs": [
    {
     "data": {
      "text/plain": [
       "Text(0, 0.5, 'Number of outcomes with frequency')"
      ]
     },
     "execution_count": 89,
     "metadata": {},
     "output_type": "execute_result"
    },
    {
     "data": {
      "image/png": "[encoded data removed]",
      "text/plain": [
       "<Figure size 432x288 with 1 Axes>"
      ]
     },
     "metadata": {
      "needs_background": "light"
     },
     "output_type": "display_data"
    }
   ],
   "source": [
    "plt.hist(x_data2, density=True, bins=15)\n",
    "plt.xlabel('Frequency of positive results, x=m/N')\n",
    "plt.ylabel('Number of outcomes with frequency')"
   ]
  },
  {
   "cell_type": "markdown",
   "metadata": {},
   "source": [
    "The first histogram is skewed left and certainly is not normal. The second one looks much more normal. Both are centered at $\\mu=0.8$."
   ]
  },
  {
   "cell_type": "markdown",
   "metadata": {},
   "source": [
    "**Exercise 2** (3 points): Create a function `f(M, N, mu)` that takes $M$, $N$, and $\\mu$ (as defined in the previous exercise) as inputs and returns the variance of the distribution of $M$ random variables $x_i \\sim \\text{Bin}(N,\\mu)$ (i.e. the distribution plotted in the previous exercise). Plot this variance on a log-log plot for various values of `N`, with `M=10000` and `mu=0.8`. In the same figure, also plot the result you obtained for the variance in the mathematical exercises on the Central Limit Theorem above."
   ]
  },
  {
   "cell_type": "code",
   "execution_count": 90,
   "metadata": {},
   "outputs": [
    {
     "data": {
      "text/plain": [
       "1.581130447750014e-05"
      ]
     },
     "execution_count": 90,
     "metadata": {},
     "output_type": "execute_result"
    }
   ],
   "source": [
    "## Solution ##\n",
    "\n",
    "def f(M,N,mu):\n",
    "    data = np.random.binomial(N,mu,M)/N\n",
    "    sample_mean = sum(data)/M\n",
    "    var_of_sample_dist = 0\n",
    "    for x in data:\n",
    "        var_of_sample_dist += (sample_mean - x)**2\n",
    "    var_of_sample_dist /= M\n",
    "    return var_of_sample_dist\n",
    "    \n",
    "f(M,N2,mu)\n"
   ]
  },
  {
   "cell_type": "code",
   "execution_count": 91,
   "metadata": {},
   "outputs": [
    {
     "data": {
      "text/plain": [
       "Text(0.5, 1.0, 'Experimental Variance vs Theoretical Variance')"
      ]
     },
     "execution_count": 91,
     "metadata": {},
     "output_type": "execute_result"
    },
    {
     "data": {
      "image/png": "[encoded data removed]",
      "text/plain": [
       "<Figure size 432x288 with 1 Axes>"
      ]
     },
     "metadata": {
      "needs_background": "light"
     },
     "output_type": "display_data"
    }
   ],
   "source": [
    "N = 6\n",
    "Ns = np.array([10**(i+1) for i in range(N)])\n",
    "\n",
    "sample_vars = np.zeros(np.shape(Ns))\n",
    "theoretical_vars = np.zeros(np.shape(Ns))\n",
    "\n",
    "for i in range(N):\n",
    "    sample_vars[i] = f(M,10**(i+1),mu)\n",
    "    theoretical_vars[i] = mu*(1-mu)/(10**(i+1))\n",
    "    \n",
    "#print(sample_vars, theoretical_vars)\n",
    "\n",
    "plt.plot(np.log(Ns),np.log(sample_vars),label='experimental variance')\n",
    "plt.plot(np.log(Ns),np.log(theoretical_vars),label='theoretical variance')\n",
    "\n",
    "plt.legend(loc=\"upper right\")\n",
    "\n",
    "plt.xlabel('Log of number of samples N')\n",
    "plt.ylabel('Log of number of variance')\n",
    "\n",
    "plt.title('Experimental Variance vs Theoretical Variance')"
   ]
  },
  {
   "cell_type": "markdown",
   "metadata": {},
   "source": [
    "The blue and orange lines are on top of eachother, which is what we expect for large $M$! If you lower the value of $M$ below 10000 then the blue line starts diverging from the orange, but still close."
   ]
  },
  {
   "cell_type": "code",
   "execution_count": null,
   "metadata": {},
   "outputs": [],
   "source": []
  }
 ],
 "metadata": {
  "kernelspec": {
   "display_name": "Python 3 (ipykernel)",
   "language": "python",
   "name": "python3"
  },
  "language_info": {
   "codemirror_mode": {
    "name": "ipython",
    "version": 3
   },
   "file_extension": ".py",
   "mimetype": "text/x-python",
   "name": "python",
   "nbconvert_exporter": "python",
   "pygments_lexer": "ipython3",
   "version": "3.9.7"
  }
 },
 "nbformat": 4,
 "nbformat_minor": 4
}
